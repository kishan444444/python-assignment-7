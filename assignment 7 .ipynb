{
 "cells": [
  {
   "cell_type": "code",
   "execution_count": null,
   "id": "a7304617-2d61-4b41-9c4b-dafa05645476",
   "metadata": {
    "tags": []
   },
   "outputs": [],
   "source": [
    "#1 Create two int type variables, apply addition, subtraction, division and multiplicationsand store the results in variables. Then print the data in the following format by calling the variables:\n",
    "\n",
    "num1 =int(input(\"first variable\"))\n",
    "num2=int(input(\"second variable\"))\n",
    "    \n",
    "addition=num1+num2\n",
    "print(f'addition {num1} + {num2} = {addition}')\n",
    "subtraction=num1-num2\n",
    "print(f'subtraction {num1} - {num2} = {subtraction}')\n",
    "multiplication=num1*num2\n",
    "print(f'multiplication {num1} * {num2} = {multiplication}')\n",
    "division=num1/num2\n",
    "print(f'Division {num1} / {num2} = {division}')\n",
    "             \n"
   ]
  },
  {
   "cell_type": "code",
   "execution_count": null,
   "id": "a6c5cea2-d69a-4f88-8abf-38198fcfadc4",
   "metadata": {
    "tags": []
   },
   "outputs": [],
   "source": [
    "#2 Q.2. What is the difference between the following operators:\n",
    "\"\"\"\n",
    "('/')= Normal division\n",
    "('//')=Floor division\n",
    "('**')=Exponential\n",
    "('^')=XOR\n",
    "\"\"\""
   ]
  },
  {
   "cell_type": "code",
   "execution_count": null,
   "id": "34f0da1f-4d86-4966-9aa8-c2e55b1fa144",
   "metadata": {},
   "outputs": [],
   "source": [
    "#3 List the logical operators.\n",
    "\"\"\"\n",
    "Three types of logic operators:\n",
    "Negation (NOT) \n",
    "Disjunction (OR) \n",
    "Conjunction (AND).\n",
    "\"\"\"\n"
   ]
  },
  {
   "cell_type": "code",
   "execution_count": null,
   "id": "fc9010c4-9f7e-4295-ac93-450935fe8aff",
   "metadata": {},
   "outputs": [],
   "source": [
    "#4 Explain right shift operator and left shift operator with examples. \n",
    "\n",
    "\"\"\"\n",
    "right-shift operator ( >> ), which moves the bits of an integer or enumeration type expression to the right,\n",
    "Example-\n",
    "a = 10        # in binary: 1010\n",
    "result = a >> 2  # result is 2 (in binary: 0010)\n",
    "print(result)\n",
    "\n",
    "left-shift operator ( << ),which moves the bits to the left.\n",
    "Example-\n",
    "a = 10        # in binary: 1010\n",
    "result = a << 2  # result is 40 (in binary: 101000)\n",
    "print(result)\n",
    "\"\"\""
   ]
  },
  {
   "cell_type": "code",
   "execution_count": null,
   "id": "339c1806-3193-4582-838e-3ca367650385",
   "metadata": {
    "tags": []
   },
   "outputs": [],
   "source": [
    "#5 Create a list containing int type data of length 15. Then write a code to check if 10 ispresent in the list or not.\n",
    "list1=[1,2,3,4,5,6,7,8,9,10,11,12,13,14,15]\n",
    "i=10\n",
    "if i in list1:\n",
    "    print(i)\n",
    "else:\n",
    "    print('No element found')\n",
    "\n",
    "\n"
   ]
  },
  {
   "cell_type": "code",
   "execution_count": null,
   "id": "4d0a2904-55e8-47bf-86a6-8bfc4ccbb670",
   "metadata": {},
   "outputs": [],
   "source": []
  }
 ],
 "metadata": {
  "kernelspec": {
   "display_name": "Python 3 (ipykernel)",
   "language": "python",
   "name": "python3"
  },
  "language_info": {
   "codemirror_mode": {
    "name": "ipython",
    "version": 3
   },
   "file_extension": ".py",
   "mimetype": "text/x-python",
   "name": "python",
   "nbconvert_exporter": "python",
   "pygments_lexer": "ipython3",
   "version": "3.11.5"
  }
 },
 "nbformat": 4,
 "nbformat_minor": 5
}
